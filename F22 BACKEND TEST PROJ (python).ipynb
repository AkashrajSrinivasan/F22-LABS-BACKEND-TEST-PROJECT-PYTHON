{
 "cells": [
  {
   "cell_type": "code",
   "execution_count": null,
   "metadata": {},
   "outputs": [],
   "source": [
    "import random\n",
    "import string\n",
    "l=[]\n",
    "a=[]\n",
    "size=int(input(\"Enter the size of string\"))\n",
    "point=0\n",
    "for i in range(size):\n",
    "\ts=random.choice(string.ascii_uppercase)\n",
    "\tl.append(s)\n",
    "times=int(input(\"Enter how many chances you want\"))\n",
    "print(\"OK,Now enter the String\")\n",
    "while(times!=0):\n",
    "\ts=input().upper()\n",
    "\tfor char in s:\n",
    "\t\t\ta.append(char)\n",
    "\tfor e in a:\n",
    "\t\tif e in l:\n",
    "\t\t\tif a.index(e)==l.index(e):\n",
    "\t\t\t\tprint(\"The letter {0} is in right position\".format(e))\n",
    "\t\t\t\tpoint=point+1\n",
    "\t\t\t\tif(point==size):#IF USER GUESSED ALL THE CHARS IN CORRECT POSITION..THEN BREAK\n",
    "\t\t\t\t\tbreak\n",
    "\t\t\t\t\n",
    "\t\t\telse:\n",
    "\t\t\t\tprint(\"The letter {0} is guessed but not in right position\".format(e))\n",
    "\t\telse:\n",
    "\t\t\tprint(\"Guess again\")\n",
    "\ttimes=times-1\n",
    "\ta*=0\n",
    "print(*l)\n",
    "\t\t\n",
    "\n"
   ]
  }
 ],
 "metadata": {
  "kernelspec": {
   "display_name": "Python 3",
   "language": "python",
   "name": "python3"
  },
  "language_info": {
   "codemirror_mode": {
    "name": "ipython",
    "version": 3
   },
   "file_extension": ".py",
   "mimetype": "text/x-python",
   "name": "python",
   "nbconvert_exporter": "python",
   "pygments_lexer": "ipython3",
   "version": "3.6.5"
  }
 },
 "nbformat": 4,
 "nbformat_minor": 2
}
